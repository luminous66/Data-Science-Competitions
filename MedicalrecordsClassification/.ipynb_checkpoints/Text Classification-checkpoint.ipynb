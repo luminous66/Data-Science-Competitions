{
 "cells": [
  {
   "cell_type": "code",
   "execution_count": 1,
   "metadata": {
    "collapsed": true
   },
   "outputs": [],
   "source": [
    "import numpy as np\n",
    "import nltk\n",
    "import string\n",
    "from nltk.corpus import stopwords\n",
    "from nltk.tokenize import RegexpTokenizer\n",
    "from sklearn.feature_extraction.text import CountVectorizer\n",
    "from sklearn.naive_bayes import MultinomialNB\n",
    "from sklearn.metrics import confusion_matrix, classification_report"
   ]
  },
  {
   "cell_type": "code",
   "execution_count": 2,
   "metadata": {
    "collapsed": true
   },
   "outputs": [],
   "source": [
    "with open('/train.txt','r') as medicalrecord:\n",
    "    allAbstracts = medicalrecord.readlines()\n",
    "    \n",
    "with open('/test.txt','r') as testrecord:\n",
    "    tAbstracts = testrecord.readlines()"
   ]
  },
  {
   "cell_type": "code",
   "execution_count": 3,
   "metadata": {
    "collapsed": true
   },
   "outputs": [],
   "source": [
    "cls = []\n",
    "records = []\n",
    "\n",
    "for x, value in np.ndenumerate(allAbstracts):\n",
    "    cls.append(value[0][0])\n",
    "    records.append(value[2:])"
   ]
  },
  {
   "cell_type": "code",
   "execution_count": 4,
   "metadata": {
    "collapsed": true
   },
   "outputs": [],
   "source": [
    "from sklearn.model_selection import train_test_split\n",
    "X_train, X_test, y_train, y_test = train_test_split(records, cls, test_size=0.3, random_state=10)\n",
    "\n",
    "\n",
    "def build_analyzer(sentence):\n",
    "    sentence = sentence.lower()\n",
    "    tokenizer = RegexpTokenizer(r'[a-zA-Z]+-?[0-9&/\\%@]*\\w+(?:[-]\\w+)*')\n",
    "    tokens = tokenizer.tokenize(sentence)\n",
    "    tagged = nltk.pos_tag(tokens)\n",
    "    posag = [s for s in tagged if s[1] != 'IN' if s[1] != 'CC' if s[1] != 'DT']\n",
    "    filtered_words = []\n",
    "    for tagged_word in posag:\n",
    "        d = tagged_word[0]\n",
    "        if not d in stopwords.words('english'):\n",
    "            if len(d) >= 4:\n",
    "                filtered_words.append(d)\n",
    "    return filtered_words"
   ]
  },
  {
   "cell_type": "code",
   "execution_count": 5,
   "metadata": {
    "collapsed": true
   },
   "outputs": [],
   "source": [
    "from nltk.tokenize import RegexpTokenizer\n",
    "from sklearn.feature_extraction.text import TfidfTransformer\n",
    "tokenizer = RegexpTokenizer(r'[a-zA-Z]+-?[0-9&/\\%@]*\\w+(?:[-]\\w+)*')"
   ]
  },
  {
   "cell_type": "code",
   "execution_count": 6,
   "metadata": {
    "collapsed": true
   },
   "outputs": [],
   "source": [
    "from sklearn.linear_model import SGDClassifier\n",
    "X_train_counts = CountVectorizer(analyzer=u'word', tokenizer = tokenizer.tokenize, min_df = 0.00015, max_df = 0.5,\n",
    "                                 ngram_range=(1, 4),stop_words='english').fit(X_train)"
   ]
  },
  {
   "cell_type": "code",
   "execution_count": 7,
   "metadata": {
    "collapsed": true
   },
   "outputs": [],
   "source": [
    "myPreprocessed = X_train_counts.transform(X_train)"
   ]
  },
  {
   "cell_type": "code",
   "execution_count": 171,
   "metadata": {
    "collapsed": true
   },
   "outputs": [],
   "source": [
    "from sklearn.feature_extraction.text import TfidfTransformer\n",
    "tf_transformer = TfidfTransformer(use_idf=False).fit(myPreprocessed)\n",
    "X_train_tf = tf_transformer.transform(myPreprocessed)"
   ]
  },
  {
   "cell_type": "code",
   "execution_count": 172,
   "metadata": {
    "collapsed": true
   },
   "outputs": [],
   "source": [
    "from sklearn.linear_model import SGDClassifier\n",
    "sd = SGDClassifier(loss='hinge', penalty='l2',alpha=0.00061, random_state=42, max_iter=10)"
   ]
  },
  {
   "cell_type": "code",
   "execution_count": 173,
   "metadata": {},
   "outputs": [
    {
     "data": {
      "text/plain": [
       "SGDClassifier(alpha=0.00061, average=False, class_weight=None, epsilon=0.1,\n",
       "       eta0=0.0, fit_intercept=True, l1_ratio=0.15,\n",
       "       learning_rate='optimal', loss='hinge', max_iter=10, n_iter=None,\n",
       "       n_jobs=1, penalty='l2', power_t=0.5, random_state=42, shuffle=True,\n",
       "       tol=None, verbose=0, warm_start=False)"
      ]
     },
     "execution_count": 173,
     "metadata": {},
     "output_type": "execute_result"
    }
   ],
   "source": [
    "sd.partial_fit(X_train_tf, np.array(y_train))"
   ]
  },
  {
   "cell_type": "code",
   "execution_count": 174,
   "metadata": {
    "collapsed": true
   },
   "outputs": [],
   "source": [
    "# for x, value in enumerate(X_test):\n",
    "review_counts= X_train_counts.transform(X_test)\n",
    "review_transformed = tf_transformer.transform(review_counts)"
   ]
  },
  {
   "cell_type": "code",
   "execution_count": 175,
   "metadata": {},
   "outputs": [
    {
     "name": "stdout",
     "output_type": "stream",
     "text": [
      "0.612650046168\n",
      "             precision    recall  f1-score   support\n",
      "\n",
      "          1       0.66      0.87      0.75       950\n",
      "          2       0.56      0.43      0.49       445\n",
      "          3       0.54      0.42      0.48       542\n",
      "          4       0.64      0.82      0.72       930\n",
      "          5       0.57      0.44      0.49      1465\n",
      "\n",
      "avg / total       0.60      0.61      0.60      4332\n",
      "\n"
     ]
    }
   ],
   "source": [
    "predicted = sd.predict(review_transformed)\n",
    "print(np.mean(predicted == y_test))\n",
    "print(classification_report(y_test, predicted))"
   ]
  },
  {
   "cell_type": "code",
   "execution_count": 36,
   "metadata": {},
   "outputs": [
    {
     "name": "stdout",
     "output_type": "stream",
     "text": [
      "  Actual number of tfidf features: 10000\n",
      "\n",
      "Performing dimensionality reduction using LSA\n",
      "  done in 40.460sec\n",
      "  Explained variance of the SVD step: 56%\n",
      "\n",
      "Classifying tfidf vectors...\n",
      "  (2666 / 4332) correct - 61.54%\n",
      "  done in 0.336sec\n",
      "\n",
      "Classifying LSA vectors...\n",
      "             precision    recall  f1-score   support\n",
      "\n",
      "          1       0.71      0.84      0.77       950\n",
      "          2       0.61      0.53      0.56       445\n",
      "          3       0.58      0.45      0.51       542\n",
      "          4       0.68      0.79      0.73       930\n",
      "          5       0.58      0.52      0.55      1465\n",
      "\n",
      "avg / total       0.63      0.64      0.63      4332\n",
      "\n",
      "  (2778 / 4332) correct - 64.13%\n",
      "    done in 1.480sec\n"
     ]
    }
   ],
   "source": [
    "from sklearn.pipeline import make_pipeline\n",
    "from sklearn.preprocessing import Normalizer\n",
    "import time\n",
    "from sklearn.decomposition import TruncatedSVD\n",
    "from sklearn.feature_extraction.text import TfidfVectorizer\n",
    "\n",
    "svd = TruncatedSVD(n_components=1000, n_iter=10, random_state=42)\n",
    "\n",
    "vectorizer = TfidfVectorizer(max_df=0.5, max_features=10000,\n",
    "                             min_df=2, stop_words='english',\n",
    "                             use_idf=True)\n",
    "\n",
    "\n",
    "\n",
    "# Build the tfidf vectorizer from the training data (\"fit\"), and apply it \n",
    "# (\"transform\").\n",
    "X_train_tfidf = vectorizer.fit_transform(X_train)\n",
    "\n",
    "print(\"  Actual number of tfidf features: %d\" % X_train_tfidf.get_shape()[1])\n",
    "\n",
    "print(\"\\nPerforming dimensionality reduction using LSA\")\n",
    "t0 = time.time()\n",
    "lsa = make_pipeline(svd, Normalizer(copy=False))\n",
    "\n",
    "# Run SVD on the training data, then project the training data.\n",
    "X_train_lsa = lsa.fit_transform(X_train_tfidf)\n",
    "\n",
    "print(\"  done in %.3fsec\" % (time.time() - t0))\n",
    "\n",
    "explained_variance = svd.explained_variance_ratio_.sum()\n",
    "print(\"  Explained variance of the SVD step: {}%\".format(int(explained_variance * 100)))\n",
    "\n",
    "X_test_tfidf = vectorizer.transform(X_test)\n",
    "X_test_lsa = lsa.transform(X_test_tfidf)\n",
    "\n",
    "\n",
    "###############################################################################\n",
    "#  Run classification of the test articles\n",
    "###############################################################################\n",
    "\n",
    "print(\"\\nClassifying tfidf vectors...\")\n",
    "\n",
    "# Time this step.\n",
    "t0 = time.time()\n",
    "\n",
    "\n",
    "svg_tfidf = SGDClassifier(loss='hinge', penalty='l2',alpha=0.0007, random_state=42, max_iter=15)\n",
    "svg_tfidf.fit(X_train_tfidf, y_train)\n",
    "\n",
    "# Classify the test vectors.\n",
    "p = svg_tfidf.predict(X_test_tfidf)\n",
    "\n",
    "# Measure accuracy\n",
    "numRight = 0;\n",
    "for i in range(0,len(p)):\n",
    "    if p[i] == y_test[i]:\n",
    "        numRight += 1\n",
    "\n",
    "print(\"  (%d / %d) correct - %.2f%%\" % (numRight, len(y_test), float(numRight) / float(len(y_test)) * 100.0))\n",
    "\n",
    "# Calculate the elapsed time (in seconds)\n",
    "elapsed = (time.time() - t0)\n",
    "print(\"  done in %.3fsec\" % elapsed)\n",
    "\n",
    "\n",
    "print(\"\\nClassifying LSA vectors...\")\n",
    "\n",
    "# Time this step.\n",
    "t0 = time.time()\n",
    "\n",
    "svg_lsa = SGDClassifier(loss='hinge', penalty='l2',alpha=0.0007, random_state=42, max_iter=15)\n",
    "svg_lsa.fit(X_train_lsa, y_train)\n",
    "\n",
    "# Classify the test vectors.\n",
    "p = svg_lsa.predict(X_test_lsa)\n",
    "\n",
    "# Measure accuracy\n",
    "numRight = 0;\n",
    "for i in range(0,len(p)):\n",
    "    if p[i] == y_test[i]:\n",
    "        numRight += 1\n",
    "        \n",
    "print(classification_report(y_test, p))\n",
    "\n",
    "print(\"  (%d / %d) correct - %.2f%%\" % (numRight, len(y_test), float(numRight) / float(len(y_test)) * 100.0))\n",
    "\n",
    "# Calculate the elapsed time (in seconds)\n",
    "elapsed = (time.time() - t0)    \n",
    "print(\"    done in %.3fsec\" % elapsed)"
   ]
  },
  {
   "cell_type": "code",
   "execution_count": null,
   "metadata": {
    "collapsed": true
   },
   "outputs": [],
   "source": [
    "testrecords = []\n",
    "\n",
    "for x, value in np.ndenumerate(tAbstracts):\n",
    "    testrecords.append(value[0:])\n",
    "    \n",
    "sd.fit(X_train_tf, np.array(cls))"
   ]
  },
  {
   "cell_type": "code",
   "execution_count": 47,
   "metadata": {
    "collapsed": true
   },
   "outputs": [],
   "source": [
    "d = []\n",
    "for x, value in enumerate(testrecords):\n",
    "    review_counts= X_train_counts.transform([value])\n",
    "    review_transformed = tf_transformer.transform(review_counts)\n",
    "    d.append(sd.predict(review_transformed)[0])"
   ]
  },
  {
   "cell_type": "code",
   "execution_count": 48,
   "metadata": {
    "collapsed": true
   },
   "outputs": [],
   "source": [
    "np.savetxt('output.dat', d, delimiter=\" \", fmt=\"%s\")"
   ]
  }
 ],
 "metadata": {
  "kernelspec": {
   "display_name": "Python 3",
   "language": "python",
   "name": "python3"
  },
  "language_info": {
   "codemirror_mode": {
    "name": "ipython",
    "version": 3
   },
   "file_extension": ".py",
   "mimetype": "text/x-python",
   "name": "python",
   "nbconvert_exporter": "python",
   "pygments_lexer": "ipython3",
   "version": "3.6.2"
  }
 },
 "nbformat": 4,
 "nbformat_minor": 2
}
