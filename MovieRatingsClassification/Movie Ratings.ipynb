{
 "cells": [
  {
   "cell_type": "code",
   "execution_count": 32,
   "metadata": {
    "collapsed": true
   },
   "outputs": [],
   "source": [
    "import pandas as pd\n",
    "\n",
    "trainrecord = pd.read_csv('/train.csv', header=None, names=['userId', 'movieId', 'rating'])\n",
    "testrecord = pd.read_csv('/test.csv', header=None, names=['userId', 'movieId'])"
   ]
  },
  {
   "cell_type": "code",
   "execution_count": 33,
   "metadata": {
    "collapsed": true
   },
   "outputs": [],
   "source": [
    "import gc\n",
    "import numpy as np\n",
    "import pandas as pd\n",
    "\n",
    "from sklearn.metrics import mean_absolute_error\n",
    "from sklearn.model_selection import train_test_split\n",
    "\n",
    "# Inputs\n",
    "from xgboost import XGBRegressor\n",
    "from sklearn.linear_model import Lasso, ElasticNet\n",
    "from sklearn.ensemble import RandomForestRegressor\n",
    "from sklearn.preprocessing import StandardScaler\n",
    "\n",
    "# Data viz\n",
    "from mlens.visualization import corr_X_y, corrmat\n",
    "\n",
    "# Model evaluation\n",
    "from mlens.metrics import make_scorer\n",
    "from mlens.model_selection import Evaluator\n",
    "\n",
    "# Ensemble\n",
    "from mlens.ensemble import SuperLearner\n",
    "\n",
    "from scipy.stats import uniform, randint\n",
    "\n",
    "from matplotlib.pyplot import show\n",
    "%matplotlib inline"
   ]
  },
  {
   "cell_type": "code",
   "execution_count": 34,
   "metadata": {
    "collapsed": true
   },
   "outputs": [],
   "source": [
    "SEED = 148\n",
    "np.random.seed(SEED)"
   ]
  },
  {
   "cell_type": "code",
   "execution_count": 35,
   "metadata": {
    "collapsed": true
   },
   "outputs": [],
   "source": [
    "trainrecord.head()\n",
    "X = []\n",
    "Y = []\n",
    "for i, row in trainrecord.iterrows():\n",
    "    x = (row['userId'], row['movieId'])\n",
    "    Y.append(row['rating'])\n",
    "    X.append(x)\n",
    "    \n",
    "from sklearn.preprocessing import MinMaxScaler\n",
    "scaler = MinMaxScaler()\n",
    "scaler.fit(X)\n",
    "X = scaler.transform(X)\n",
    "\n",
    "xtrain, xtest, ytrain, ytest = train_test_split(\n",
    "    X, Y, test_size=0.33, random_state=SEED)"
   ]
  },
  {
   "cell_type": "code",
   "execution_count": 36,
   "metadata": {
    "collapsed": true
   },
   "outputs": [],
   "source": [
    "gb = XGBRegressor(n_jobs=1, random_state=SEED)\n",
    "ls = Lasso(alpha=1e-6, normalize=True)\n",
    "el = ElasticNet(alpha=1e-6, normalize=True)\n",
    "rf = RandomForestRegressor(random_state=SEED)\n",
    "\n",
    "base_learners = [\n",
    "    ('ls', ls), ('el', el), ('rf', rf), ('gb', gb)]"
   ]
  },
  {
   "cell_type": "code",
   "execution_count": 37,
   "metadata": {},
   "outputs": [
    {
     "name": "stdout",
     "output_type": "stream",
     "text": [
      " ls : 0.9124\n",
      " el : 0.9122\n",
      " rf : 0.9101\n",
      " gb : 0.8883\n"
     ]
    }
   ],
   "source": [
    "from math import sqrt\n",
    "import numpy as np\n",
    "\n",
    "P = np.zeros((xtest.shape[0], len(base_learners)))\n",
    "P = pd.DataFrame(P, columns=[e for e, _ in base_learners])\n",
    "\n",
    "for est_name, est in base_learners:\n",
    "    est.fit(xtrain, ytrain)\n",
    "    p = est.predict(xtest)\n",
    "    P.loc[:, est_name] = p\n",
    "    print(\"%3s : %.4f\" % (est_name, sqrt(mean_absolute_error(ytest, p))))"
   ]
  },
  {
   "cell_type": "code",
   "execution_count": 38,
   "metadata": {},
   "outputs": [
    {
     "data": {
      "image/png": "[encoded data removed]",
      "text/plain": [
       "<matplotlib.figure.Figure at 0x1a1b426fd0>"
      ]
     },
     "metadata": {},
     "output_type": "display_data"
    }
   ],
   "source": [
    "ax = corrmat(P.corr())\n",
    "show()"
   ]
  },
  {
   "cell_type": "code",
   "execution_count": 39,
   "metadata": {
    "collapsed": true
   },
   "outputs": [],
   "source": [
    "param_dicts = {\n",
    "    'ls':\n",
    "    {'alpha': uniform(1e-6, 1e-5)},\n",
    "    'el':\n",
    "    {'alpha': uniform(1e-6, 1e-5),\n",
    "     'l1_ratio': uniform(0, 1)\n",
    "    },\n",
    "    'gb':\n",
    "    {'learning_rate': uniform(0.02, 0.04),\n",
    "     'colsample_bytree': uniform(0.55, 0.66),\n",
    "     'min_child_weight': randint(30, 60),\n",
    "     'max_depth': randint(3, 7),\n",
    "     'subsample': uniform(0.4, 0.2),\n",
    "     'n_estimators': randint(150, 200),\n",
    "     'colsample_bytree': uniform(0.6, 0.4),\n",
    "     'reg_lambda': uniform(1, 2),\n",
    "     'reg_alpha': uniform(1, 2),\n",
    "    },\n",
    "    'rf':\n",
    "    {'max_depth': randint(2, 5),\n",
    "     'min_samples_split': randint(5, 20),\n",
    "     'min_samples_leaf': randint(10, 20),\n",
    "     'n_estimators': randint(50, 100),\n",
    "     'max_features': uniform(0.6, 0.3)\n",
    "    }\n",
    "}"
   ]
  },
  {
   "cell_type": "code",
   "execution_count": 40,
   "metadata": {
    "collapsed": true
   },
   "outputs": [],
   "source": [
    "scorer = make_scorer(mean_absolute_error, greater_is_better=False)\n",
    "\n",
    "evl = Evaluator(\n",
    "    scorer,\n",
    "    cv=2,\n",
    "    random_state=SEED,\n",
    "    verbose=5,\n",
    ")"
   ]
  },
  {
   "cell_type": "code",
   "execution_count": 10,
   "metadata": {},
   "outputs": [
    {
     "name": "stdout",
     "output_type": "stream",
     "text": [
      "Launching job\n",
      "Preprocessing 2 preprocessing pipelines over 2 CV folds\n",
      "[Parallel(n_jobs=-1)]: Done   4 out of   4 | elapsed:    0.0s finished\n",
      "Preprocessing done | 00:00:00\n",
      "Evaluating 8 models for 2 parameter draws over 2 preprocessing pipelines and 2 CV folds, totalling 32 fits\n",
      "[Parallel(n_jobs=-1)]: Done  24 tasks      | elapsed:    6.6s\n",
      "[Parallel(n_jobs=-1)]: Done  32 out of  32 | elapsed:    8.1s finished\n",
      "Evaluation    done | 00:00:08\n",
      "Job           done | 00:00:08\n"
     ]
    },
    {
     "data": {
      "text/plain": [
       "<mlens.model_selection.model_selection.Evaluator at 0x11342df28>"
      ]
     },
     "execution_count": 10,
     "metadata": {},
     "output_type": "execute_result"
    }
   ],
   "source": [
    "evl.fit(\n",
    "    xtrain, ytrain,\n",
    "    estimators=base_learners,\n",
    "    param_dicts=param_dicts,\n",
    "    preprocessing={'sc': [StandardScaler()], 'none': []},\n",
    "    n_iter=2  # bump this up to do a larger grid search\n",
    ")"
   ]
  },
  {
   "cell_type": "code",
   "execution_count": 11,
   "metadata": {},
   "outputs": [
    {
     "data": {
      "text/html": [
       "<div>\n",
       "<style>\n",
       "    .dataframe thead tr:only-child th {\n",
       "        text-align: right;\n",
       "    }\n",
       "\n",
       "    .dataframe thead th {\n",
       "        text-align: left;\n",
       "    }\n",
       "\n",
       "    .dataframe tbody tr th {\n",
       "        vertical-align: top;\n",
       "    }\n",
       "</style>\n",
       "<table border=\"1\" class=\"dataframe\">\n",
       "  <thead>\n",
       "    <tr style=\"text-align: right;\">\n",
       "      <th></th>\n",
       "      <th>test_score-m</th>\n",
       "      <th>test_score-s</th>\n",
       "      <th>train_score-m</th>\n",
       "      <th>train_score-s</th>\n",
       "      <th>fit_time-m</th>\n",
       "      <th>fit_time-s</th>\n",
       "      <th>pred_time-m</th>\n",
       "      <th>pred_time-s</th>\n",
       "      <th>params</th>\n",
       "    </tr>\n",
       "  </thead>\n",
       "  <tbody>\n",
       "    <tr>\n",
       "      <th>none.el</th>\n",
       "      <td>-0.831304</td>\n",
       "      <td>0.001624</td>\n",
       "      <td>-0.830968</td>\n",
       "      <td>0.003611</td>\n",
       "      <td>0.003865</td>\n",
       "      <td>0.000026</td>\n",
       "      <td>0.001317</td>\n",
       "      <td>0.000373</td>\n",
       "      <td>{'alpha': 6.754058522312349e-06, 'l1_ratio': 0...</td>\n",
       "    </tr>\n",
       "    <tr>\n",
       "      <th>none.gb</th>\n",
       "      <td>-0.786532</td>\n",
       "      <td>0.005006</td>\n",
       "      <td>-0.772718</td>\n",
       "      <td>0.006302</td>\n",
       "      <td>2.243716</td>\n",
       "      <td>0.020265</td>\n",
       "      <td>0.269248</td>\n",
       "      <td>0.006755</td>\n",
       "      <td>{'learning_rate': 0.0430162340892494, 'colsamp...</td>\n",
       "    </tr>\n",
       "    <tr>\n",
       "      <th>none.ls</th>\n",
       "      <td>-0.832389</td>\n",
       "      <td>0.001673</td>\n",
       "      <td>-0.832047</td>\n",
       "      <td>0.003626</td>\n",
       "      <td>0.002397</td>\n",
       "      <td>0.000427</td>\n",
       "      <td>0.000561</td>\n",
       "      <td>0.000013</td>\n",
       "      <td>{'alpha': 6.754058522312349e-06}</td>\n",
       "    </tr>\n",
       "    <tr>\n",
       "      <th>none.rf</th>\n",
       "      <td>-0.812146</td>\n",
       "      <td>0.004862</td>\n",
       "      <td>-0.808525</td>\n",
       "      <td>0.004002</td>\n",
       "      <td>0.985899</td>\n",
       "      <td>0.048487</td>\n",
       "      <td>0.074325</td>\n",
       "      <td>0.000262</td>\n",
       "      <td>{'max_depth': 4, 'min_samples_split': 8, 'min_...</td>\n",
       "    </tr>\n",
       "    <tr>\n",
       "      <th>sc.el</th>\n",
       "      <td>-0.831304</td>\n",
       "      <td>0.001624</td>\n",
       "      <td>-0.830968</td>\n",
       "      <td>0.003611</td>\n",
       "      <td>0.010035</td>\n",
       "      <td>0.005532</td>\n",
       "      <td>0.000737</td>\n",
       "      <td>0.000057</td>\n",
       "      <td>{'alpha': 6.754058522312349e-06, 'l1_ratio': 0...</td>\n",
       "    </tr>\n",
       "    <tr>\n",
       "      <th>sc.gb</th>\n",
       "      <td>-0.786491</td>\n",
       "      <td>0.005088</td>\n",
       "      <td>-0.772733</td>\n",
       "      <td>0.006283</td>\n",
       "      <td>1.993322</td>\n",
       "      <td>0.022101</td>\n",
       "      <td>0.359846</td>\n",
       "      <td>0.027755</td>\n",
       "      <td>{'learning_rate': 0.0430162340892494, 'colsamp...</td>\n",
       "    </tr>\n",
       "    <tr>\n",
       "      <th>sc.ls</th>\n",
       "      <td>-0.832389</td>\n",
       "      <td>0.001673</td>\n",
       "      <td>-0.832047</td>\n",
       "      <td>0.003626</td>\n",
       "      <td>0.005824</td>\n",
       "      <td>0.002260</td>\n",
       "      <td>0.000662</td>\n",
       "      <td>0.000067</td>\n",
       "      <td>{'alpha': 6.754058522312349e-06}</td>\n",
       "    </tr>\n",
       "    <tr>\n",
       "      <th>sc.rf</th>\n",
       "      <td>-0.812146</td>\n",
       "      <td>0.004864</td>\n",
       "      <td>-0.808523</td>\n",
       "      <td>0.004002</td>\n",
       "      <td>1.075177</td>\n",
       "      <td>0.045871</td>\n",
       "      <td>0.066675</td>\n",
       "      <td>0.003617</td>\n",
       "      <td>{'max_depth': 4, 'min_samples_split': 8, 'min_...</td>\n",
       "    </tr>\n",
       "  </tbody>\n",
       "</table>\n",
       "</div>"
      ],
      "text/plain": [
       "         test_score-m  test_score-s  train_score-m  train_score-s  fit_time-m  \\\n",
       "none.el     -0.831304      0.001624      -0.830968       0.003611    0.003865   \n",
       "none.gb     -0.786532      0.005006      -0.772718       0.006302    2.243716   \n",
       "none.ls     -0.832389      0.001673      -0.832047       0.003626    0.002397   \n",
       "none.rf     -0.812146      0.004862      -0.808525       0.004002    0.985899   \n",
       "sc.el       -0.831304      0.001624      -0.830968       0.003611    0.010035   \n",
       "sc.gb       -0.786491      0.005088      -0.772733       0.006283    1.993322   \n",
       "sc.ls       -0.832389      0.001673      -0.832047       0.003626    0.005824   \n",
       "sc.rf       -0.812146      0.004864      -0.808523       0.004002    1.075177   \n",
       "\n",
       "         fit_time-s  pred_time-m  pred_time-s  \\\n",
       "none.el    0.000026     0.001317     0.000373   \n",
       "none.gb    0.020265     0.269248     0.006755   \n",
       "none.ls    0.000427     0.000561     0.000013   \n",
       "none.rf    0.048487     0.074325     0.000262   \n",
       "sc.el      0.005532     0.000737     0.000057   \n",
       "sc.gb      0.022101     0.359846     0.027755   \n",
       "sc.ls      0.002260     0.000662     0.000067   \n",
       "sc.rf      0.045871     0.066675     0.003617   \n",
       "\n",
       "                                                    params  \n",
       "none.el  {'alpha': 6.754058522312349e-06, 'l1_ratio': 0...  \n",
       "none.gb  {'learning_rate': 0.0430162340892494, 'colsamp...  \n",
       "none.ls                   {'alpha': 6.754058522312349e-06}  \n",
       "none.rf  {'max_depth': 4, 'min_samples_split': 8, 'min_...  \n",
       "sc.el    {'alpha': 6.754058522312349e-06, 'l1_ratio': 0...  \n",
       "sc.gb    {'learning_rate': 0.0430162340892494, 'colsamp...  \n",
       "sc.ls                     {'alpha': 6.754058522312349e-06}  \n",
       "sc.rf    {'max_depth': 4, 'min_samples_split': 8, 'min_...  "
      ]
     },
     "execution_count": 11,
     "metadata": {},
     "output_type": "execute_result"
    }
   ],
   "source": [
    "pd.DataFrame(evl.results)"
   ]
  },
  {
   "cell_type": "code",
   "execution_count": 12,
   "metadata": {},
   "outputs": [
    {
     "data": {
      "text/plain": [
       "{'colsample_bytree': 0.830162340892494,\n",
       " 'learning_rate': 0.0430162340892494,\n",
       " 'max_depth': 6,\n",
       " 'min_child_weight': 49,\n",
       " 'n_estimators': 169,\n",
       " 'reg_alpha': 2.1508117044624697,\n",
       " 'reg_lambda': 2.1508117044624697,\n",
       " 'subsample': 0.515081170446247}"
      ]
     },
     "execution_count": 12,
     "metadata": {},
     "output_type": "execute_result"
    }
   ],
   "source": [
    "evl.results[\"params\"]['sc.gb']"
   ]
  },
  {
   "cell_type": "code",
   "execution_count": 13,
   "metadata": {
    "collapsed": true
   },
   "outputs": [],
   "source": [
    "for case_name, params in evl.results[\"params\"].items():\n",
    "    case, case_est = case_name.split('.')\n",
    "    for est_name, est in base_learners:\n",
    "        if est_name == case_est:\n",
    "            est.set_params(**params)"
   ]
  },
  {
   "cell_type": "code",
   "execution_count": 14,
   "metadata": {
    "collapsed": true
   },
   "outputs": [],
   "source": [
    "# We will compare a GBM and an elastic net as the meta learner\n",
    "# These are cloned internally so we can go ahead and grab the fitted ones\n",
    "meta_learners = [\n",
    "    ('gb', gb), ('rf', rf)\n",
    "]\n",
    "\n",
    "# Note that when we have a preprocessing pipeline,\n",
    "# keys are in the (prep_name, est_name) format\n",
    "param_dicts = {\n",
    "    'rf':\n",
    "    {'max_depth': randint(2, 5),\n",
    "     'min_samples_split': randint(5, 20),\n",
    "     'min_samples_leaf': randint(10, 20),\n",
    "     'n_estimators': randint(50, 100),\n",
    "     'max_features': uniform(0.6, 0.3)\n",
    "    },\n",
    "    'gb':\n",
    "    {'learning_rate': uniform(0.01, 0.2),\n",
    "     'subsample': uniform(0.5, 0.5),\n",
    "     'reg_lambda': uniform(0.1, 1),\n",
    "     'n_estimators': randint(10, 100)\n",
    "    },\n",
    "}"
   ]
  },
  {
   "cell_type": "code",
   "execution_count": 15,
   "metadata": {
    "collapsed": true
   },
   "outputs": [],
   "source": [
    "# Put the layers you don't want to tune into an ensemble with model selection turned on\n",
    "# Just remember to turn it off when you're done!\n",
    "in_layer = SuperLearner(model_selection=True)\n",
    "in_layer.add(base_learners)\n",
    "\n",
    "preprocess = [in_layer]"
   ]
  },
  {
   "cell_type": "code",
   "execution_count": 16,
   "metadata": {},
   "outputs": [
    {
     "name": "stdout",
     "output_type": "stream",
     "text": [
      "Launching job\n",
      "Preprocessing 1 preprocessing pipelines over 2 CV folds\n",
      "[Parallel(n_jobs=-1)]: Done   2 out of   2 | elapsed:    4.0s remaining:    0.0s\n",
      "[Parallel(n_jobs=-1)]: Done   2 out of   2 | elapsed:    4.0s finished\n",
      "Preprocessing done | 00:00:04\n",
      "Evaluating 2 models for 10 parameter draws over 1 preprocessing pipelines and 2 CV folds, totalling 40 fits\n",
      "[Parallel(n_jobs=-1)]: Done  24 tasks      | elapsed:   46.9s\n",
      "[Parallel(n_jobs=-1)]: Done  40 out of  40 | elapsed:  1.3min finished\n",
      "Evaluation    done | 00:01:17\n",
      "Job           done | 00:01:21\n"
     ]
    },
    {
     "data": {
      "text/plain": [
       "<mlens.model_selection.model_selection.Evaluator at 0x11342df28>"
      ]
     },
     "execution_count": 16,
     "metadata": {},
     "output_type": "execute_result"
    }
   ],
   "source": [
    "evl.fit(\n",
    "    xtrain, ytrain,\n",
    "    meta_learners,\n",
    "    param_dicts,\n",
    "    preprocessing={'meta': preprocess},\n",
    "    n_iter=10                            # bump this up to do a larger grid search\n",
    ")"
   ]
  },
  {
   "cell_type": "code",
   "execution_count": 17,
   "metadata": {},
   "outputs": [
    {
     "data": {
      "text/html": [
       "<div>\n",
       "<style>\n",
       "    .dataframe thead tr:only-child th {\n",
       "        text-align: right;\n",
       "    }\n",
       "\n",
       "    .dataframe thead th {\n",
       "        text-align: left;\n",
       "    }\n",
       "\n",
       "    .dataframe tbody tr th {\n",
       "        vertical-align: top;\n",
       "    }\n",
       "</style>\n",
       "<table border=\"1\" class=\"dataframe\">\n",
       "  <thead>\n",
       "    <tr style=\"text-align: right;\">\n",
       "      <th></th>\n",
       "      <th>test_score-m</th>\n",
       "      <th>test_score-s</th>\n",
       "      <th>train_score-m</th>\n",
       "      <th>train_score-s</th>\n",
       "      <th>fit_time-m</th>\n",
       "      <th>fit_time-s</th>\n",
       "      <th>pred_time-m</th>\n",
       "      <th>pred_time-s</th>\n",
       "      <th>params</th>\n",
       "    </tr>\n",
       "  </thead>\n",
       "  <tbody>\n",
       "    <tr>\n",
       "      <th>meta.gb</th>\n",
       "      <td>-0.790492</td>\n",
       "      <td>0.003870</td>\n",
       "      <td>-0.761135</td>\n",
       "      <td>0.008287</td>\n",
       "      <td>4.669716</td>\n",
       "      <td>0.077545</td>\n",
       "      <td>0.212733</td>\n",
       "      <td>0.116692</td>\n",
       "      <td>{'learning_rate': 0.12515078243898003, 'subsam...</td>\n",
       "    </tr>\n",
       "    <tr>\n",
       "      <th>meta.rf</th>\n",
       "      <td>-0.787718</td>\n",
       "      <td>0.003633</td>\n",
       "      <td>-0.787189</td>\n",
       "      <td>0.008167</td>\n",
       "      <td>7.000429</td>\n",
       "      <td>0.099820</td>\n",
       "      <td>0.135358</td>\n",
       "      <td>0.015563</td>\n",
       "      <td>{'max_depth': 4, 'min_samples_split': 6, 'min_...</td>\n",
       "    </tr>\n",
       "  </tbody>\n",
       "</table>\n",
       "</div>"
      ],
      "text/plain": [
       "         test_score-m  test_score-s  train_score-m  train_score-s  fit_time-m  \\\n",
       "meta.gb     -0.790492      0.003870      -0.761135       0.008287    4.669716   \n",
       "meta.rf     -0.787718      0.003633      -0.787189       0.008167    7.000429   \n",
       "\n",
       "         fit_time-s  pred_time-m  pred_time-s  \\\n",
       "meta.gb    0.077545     0.212733     0.116692   \n",
       "meta.rf    0.099820     0.135358     0.015563   \n",
       "\n",
       "                                                    params  \n",
       "meta.gb  {'learning_rate': 0.12515078243898003, 'subsam...  \n",
       "meta.rf  {'max_depth': 4, 'min_samples_split': 6, 'min_...  "
      ]
     },
     "execution_count": 17,
     "metadata": {},
     "output_type": "execute_result"
    }
   ],
   "source": [
    "pd.DataFrame(evl.results)"
   ]
  },
  {
   "cell_type": "code",
   "execution_count": 19,
   "metadata": {},
   "outputs": [
    {
     "data": {
      "text/plain": [
       "SuperLearner(array_check=2, backend=None, folds=2,\n",
       "       layers=[Layer(backend='threading', dtype=<class 'numpy.float32'>, n_jobs=-1,\n",
       "   name='layer-1', propagate_features=None, raise_on_exception=True,\n",
       "   random_state=None, shuffle=False,\n",
       "   stack=[Group(backend='threading', dtype=<class 'numpy.float32'>,\n",
       "   indexer=FoldIndex(X=None, folds=2, raise_on_ex...rer=None)],\n",
       "   n_jobs=-1, name='group-1', raise_on_exception=True, transformers=[])],\n",
       "   verbose=0)],\n",
       "       model_selection=False, n_jobs=None, raise_on_exception=True,\n",
       "       random_state=None, sample_size=20, scorer=None, shuffle=False,\n",
       "       verbose=False)"
      ]
     },
     "execution_count": 19,
     "metadata": {},
     "output_type": "execute_result"
    }
   ],
   "source": [
    "# Let's pick the linear meta learner with the above tuned\n",
    "# hyper-parameters. Note that ideally, you'd want to tune\n",
    "# the ensemble as a whole, not each estimator at a time\n",
    "meta_learner = meta_learners[1][1]\n",
    "meta_learner.set_params(**evl.results[\"params\"][\"meta.rf\"])\n",
    "\n",
    "# We can grab the preprocessing layer and turn model selection off\n",
    "ens = in_layer\n",
    "ens.model_selection = False\n",
    "ens.add_meta(meta_learner)"
   ]
  },
  {
   "cell_type": "code",
   "execution_count": 26,
   "metadata": {},
   "outputs": [
    {
     "data": {
      "text/plain": [
       "SuperLearner(array_check=2, backend=None, folds=2,\n",
       "       layers=[Layer(backend='threading', dtype=<class 'numpy.float32'>, n_jobs=-1,\n",
       "   name='layer-1', propagate_features=None, raise_on_exception=True,\n",
       "   random_state=None, shuffle=False,\n",
       "   stack=[Group(backend='threading', dtype=<class 'numpy.float32'>,\n",
       "   indexer=FoldIndex(X=None, folds=2, raise_on_ex...rer=None)],\n",
       "   n_jobs=-1, name='group-1', raise_on_exception=True, transformers=[])],\n",
       "   verbose=0)],\n",
       "       model_selection=False, n_jobs=None, raise_on_exception=True,\n",
       "       random_state=None, sample_size=20, scorer=None, shuffle=False,\n",
       "       verbose=False)"
      ]
     },
     "execution_count": 26,
     "metadata": {},
     "output_type": "execute_result"
    }
   ],
   "source": [
    "ens.fit(xtrain, ytrain)"
   ]
  },
  {
   "cell_type": "code",
   "execution_count": 31,
   "metadata": {},
   "outputs": [
    {
     "name": "stdout",
     "output_type": "stream",
     "text": [
      "[[0. 0.]\n",
      " [0. 0.]\n",
      " [0. 0.]\n",
      " ...\n",
      " [0. 1.]\n",
      " [0. 0.]\n",
      " [0. 1.]]\n"
     ]
    }
   ],
   "source": [
    "pred = ens.predict(xtest)\n",
    "pred = np.round(xtest)\n",
    "print(pred)"
   ]
  },
  {
   "cell_type": "code",
   "execution_count": null,
   "metadata": {},
   "outputs": [],
   "source": [
    "from sklearn.metrics import classification_report\n",
    "\n",
    "print(classification_report(ytest, pred))\n",
    "\n",
    "print(\"ensemble score: %.4f\" % sqrt(mean_absolute_error(ytest, pred)))"
   ]
  },
  {
   "cell_type": "code",
   "execution_count": 23,
   "metadata": {
    "collapsed": true
   },
   "outputs": [],
   "source": [
    "Xtest = []\n",
    "for i, row in testrecord.iterrows():\n",
    "    x = (row['userId'], row['movieId'])\n",
    "    Xtest.append(x)\n",
    "    \n",
    "scaler = MinMaxScaler()\n",
    "scaler.fit(Xtest)\n",
    "Xtest = scaler.transform(Xtest)"
   ]
  },
  {
   "cell_type": "code",
   "execution_count": 24,
   "metadata": {},
   "outputs": [
    {
     "name": "stdout",
     "output_type": "stream",
     "text": [
      "[4.0966206 3.8180976 4.129749  3.927098  4.0967283 3.9169328 3.9169328\n",
      " 3.8988316 4.2452044 4.5055737 3.8988316 4.1335287 4.246747  4.1295705\n",
      " 4.0474887 3.4668722 3.8988316 3.8988316 4.4231787 4.2466955 3.885539\n",
      " 3.4668722 4.248605  4.148717  4.0966206 4.0966206 3.8988316 4.2452044\n",
      " 4.142849  3.927098  3.8402336 3.8432646 4.106792  3.8325562 4.1153836\n",
      " 3.7208478 3.8432646 4.1283455 4.115276  3.9100995 3.919994  3.9100995\n",
      " 3.6284122 3.5978372 3.5637228 3.6118476 3.705442  3.703935  4.0967283\n",
      " 3.8529475 3.6999109 3.8422434 3.8422434 3.5637228 3.5637228 3.5637228\n",
      " 3.5637228 3.5978372 3.5978372 3.5978372 3.8180976 3.8180976 3.8180976\n",
      " 4.122256  4.122256  4.122256  4.122256  3.6118476 3.8180976 3.8988316\n",
      " 3.8422434 3.8458488 3.8402336 4.0845776 3.8988316 3.9169328 3.8988316\n",
      " 3.5978372 3.906111  4.0811567 3.8988316 3.8988316 3.8988316 3.5978372\n",
      " 3.473227  3.8259125 3.8259125 3.2866232 4.122256  3.8988316 4.1372733\n",
      " 4.1372733 4.1372733 3.5978372 3.8180976 4.0966206 4.115276  4.0966206\n",
      " 4.0966206 4.0966206]\n"
     ]
    }
   ],
   "source": [
    "ens.fit(X, Y)\n",
    "pred = ens.predict(Xtest)\n",
    "print(pred[:100])"
   ]
  },
  {
   "cell_type": "code",
   "execution_count": 25,
   "metadata": {
    "collapsed": true
   },
   "outputs": [],
   "source": [
    "np.savetxt('predictions.dat', pred, delimiter=\" \", fmt=\"%s\")"
   ]
  }
 ],
 "metadata": {
  "kernelspec": {
   "display_name": "Python 3",
   "language": "python",
   "name": "python3"
  },
  "language_info": {
   "codemirror_mode": {
    "name": "ipython",
    "version": 3
   },
   "file_extension": ".py",
   "mimetype": "text/x-python",
   "name": "python",
   "nbconvert_exporter": "python",
   "pygments_lexer": "ipython3",
   "version": "3.6.2"
  }
 },
 "nbformat": 4,
 "nbformat_minor": 2
}
